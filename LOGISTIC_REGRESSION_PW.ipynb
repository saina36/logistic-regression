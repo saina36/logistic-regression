{
  "nbformat": 4,
  "nbformat_minor": 0,
  "metadata": {
    "colab": {
      "provenance": [],
      "gpuType": "T4"
    },
    "kernelspec": {
      "name": "python3",
      "display_name": "Python 3"
    },
    "language_info": {
      "name": "python"
    },
    "accelerator": "GPU"
  },
  "cells": [
    {
      "cell_type": "markdown",
      "source": [
        "#PWSKILLS ASSIGNMENT\n",
        "##LOGISTIC REGRESSION\n",
        "##THEORY QUESTIONS\n",
        "\n",
        "\n",
        "\n",
        "1. **What is Logistic Regression, and how does it differ from Linear Regression?**\n",
        "\n",
        "* Logistic Regression is used for classification tasks, while Linear Regression is for predicting continuous values.\n",
        "  Example:\n",
        "  Linear → house price; Logistic → spam or not spam.\n",
        "\n",
        "2. **What is the mathematical equation of Logistic Regression?**\n",
        "\n",
        "* Logistic Regression predicts the probability using the sigmoid function:\n",
        "  `P(y=1|x) = 1 / (1 + e^-(β₀ + β₁x₁ + β₂x₂ + ... + βₙxₙ))`\n",
        "\n",
        "3. **Why do we use the Sigmoid function in Logistic Regression?**\n",
        "\n",
        "* It maps any real-valued number into the range \\[0, 1], making it ideal for probability output.\n",
        "\n",
        "4. **What is the cost function of Logistic Regression?**\n",
        "\n",
        "* Binary Cross-Entropy (Log Loss):\n",
        "  `Cost = -[y * log(p) + (1 - y) * log(1 - p)]`\n",
        "  where `p` is the predicted probability.\n",
        "\n",
        "5. **What is Regularization in Logistic Regression? Why is it needed?**\n",
        "\n",
        "* Regularization adds penalty terms to the loss to prevent overfitting.\n",
        "  Types: L1 (Lasso), L2 (Ridge)\n",
        "\n",
        "6. **Explain the difference between Lasso, Ridge, and Elastic Net regression.**\n",
        "\n",
        "* **Lasso (L1)**: Shrinks coefficients and can eliminate features (feature selection).\n",
        "* **Ridge (L2)**: Shrinks coefficients but doesn't remove them.\n",
        "* **Elastic Net**: Combines L1 + L2 regularization.\n",
        "\n",
        "7. **When should we use Elastic Net instead of Lasso or Ridge?**\n",
        "\n",
        "* When dealing with correlated features and the need for both feature selection and coefficient shrinkage.\n",
        "\n",
        "8. **What is the impact of the regularization parameter (λ) in Logistic Regression?**\n",
        "\n",
        "* Higher λ → more regularization → smaller coefficients.\n",
        "* Low λ → model may overfit.\n",
        "\n",
        "9. **What are the key assumptions of Logistic Regression?**\n",
        "\n",
        "* No multicollinearity,\n",
        "* Linear relationship between independent variables and log-odds,\n",
        "* Large sample size,\n",
        "* Independence of observations.\n",
        "\n",
        "10. **What are some alternatives to Logistic Regression for classification tasks?**\n",
        "\n",
        "* Decision Trees,\n",
        "* Random Forest,\n",
        "* XGBoost,\n",
        "* SVM,\n",
        "* KNN,\n",
        "* Neural Networks\n",
        "\n",
        "11. **What are Classification Evaluation Metrics?**\n",
        "\n",
        "* Accuracy, Precision, Recall, F1-score, ROC-AUC, Confusion Matrix\n",
        "\n",
        "12. **How does class imbalance affect Logistic Regression?**\n",
        "\n",
        "* The model may be biased toward the majority class.\n",
        "  Solution: Use resampling, class weights, or advanced metrics like AUC or F1-score.\n",
        "\n",
        "13. **What is Hyperparameter Tuning in Logistic Regression?**\n",
        "\n",
        "* It’s the process of selecting optimal values for parameters like `C` (inverse of λ), solver, and penalty using techniques like Grid Search or Random Search.\n",
        "\n",
        "14. **What are different solvers in Logistic Regression? Which one should be used?**\n",
        "\n",
        "* `liblinear`: small datasets, supports L1\n",
        "* `saga`: large datasets, supports L1/L2/ElasticNet\n",
        "* `lbfgs`, `newton-cg`: large datasets, L2 only\n",
        "  Choice depends on dataset size and penalty.\n",
        "\n",
        "15. **How is Logistic Regression extended for multiclass classification?**\n",
        "\n",
        "* Using **One-vs-Rest (OvR)** or **Multinomial (Softmax)** approaches.\n",
        "\n",
        "16. **What are the advantages and disadvantages of Logistic Regression?**\n",
        "    Advantages:\n",
        "\n",
        "* Simple, fast, interpretable\n",
        "  Disadvantages:\n",
        "* Assumes linearity,\n",
        "* May underperform with complex relationships\n",
        "\n",
        "17. **What are some use cases of Logistic Regression?**\n",
        "\n",
        "* Email spam detection,\n",
        "* Credit risk prediction,\n",
        "* Disease diagnosis,\n",
        "* Marketing response prediction\n",
        "\n",
        "18. **What is the difference between Softmax Regression and Logistic Regression?**\n",
        "\n",
        "* **Logistic Regression** → binary classification\n",
        "* **Softmax Regression** → multiclass classification (generalized version)\n",
        "\n",
        "19. **How do we choose between One-vs-Rest (OvR) and Softmax for multiclass classification?**\n",
        "\n",
        "* **OvR**: When classes are imbalanced or fewer.\n",
        "* **Softmax**: For balanced and exclusive multiclass problems.\n",
        "\n",
        "20. **How do we interpret coefficients in Logistic Regression?**\n",
        "\n",
        "* Each coefficient represents the **change in log-odds** of the outcome per unit increase in the predictor.\n",
        "  Interpretation: `exp(β)` gives the **odds ratio**.\n",
        "\n",
        "\n"
      ],
      "metadata": {
        "id": "_18U81f4_HP9"
      }
    },
    {
      "cell_type": "markdown",
      "source": [
        "##PRACTICAL QUESTIONS\n"
      ],
      "metadata": {
        "id": "ng0h051e_TuF"
      }
    },
    {
      "cell_type": "code",
      "execution_count": 1,
      "metadata": {
        "colab": {
          "base_uri": "https://localhost:8080/"
        },
        "id": "gBQbMEn0_DgU",
        "outputId": "89f129a9-b07e-4f09-e2a4-c225ed47398a"
      },
      "outputs": [
        {
          "output_type": "stream",
          "name": "stdout",
          "text": [
            "Random value: 0.36516358456670717\n"
          ]
        }
      ],
      "source": [
        "# 1. Write a Python program to generate a random variable and display its value\n",
        "import numpy as np\n",
        "\n",
        "random_value = np.random.rand()\n",
        "print(\"Random value:\", random_value)\n"
      ]
    },
    {
      "cell_type": "code",
      "source": [
        "# 2. Write a Python program that loads a dataset, splits it into training and testing sets, applies Logistic Regression, and prints the model accuracy\n",
        "from sklearn.datasets import load_iris\n",
        "from sklearn.linear_model import LogisticRegression\n",
        "from sklearn.model_selection import train_test_split\n",
        "from sklearn.metrics import accuracy_score\n",
        "\n",
        "X, y = load_iris(return_X_y=True)\n",
        "X_train, X_test, y_train, y_test = train_test_split(X, y, test_size=0.3, random_state=42)\n",
        "\n",
        "model = LogisticRegression(max_iter=200)\n",
        "model.fit(X_train, y_train)\n",
        "y_pred = model.predict(X_test)\n",
        "\n",
        "print(\"Accuracy:\", accuracy_score(y_test, y_pred))\n"
      ],
      "metadata": {
        "colab": {
          "base_uri": "https://localhost:8080/"
        },
        "id": "tbqDxlGGA9_1",
        "outputId": "27cb4eaf-0e7c-4702-f522-ebfb73316c78"
      },
      "execution_count": 2,
      "outputs": [
        {
          "output_type": "stream",
          "name": "stdout",
          "text": [
            "Accuracy: 1.0\n"
          ]
        }
      ]
    },
    {
      "cell_type": "code",
      "source": [
        "# 3. Write a Python program to apply L1 regularization (Lasso) on a dataset using LogisticRegression(penalty='l1') and print the model accuracy\n",
        "from sklearn.linear_model import LogisticRegression\n",
        "from sklearn.datasets import load_iris\n",
        "from sklearn.model_selection import train_test_split\n",
        "from sklearn.metrics import accuracy_score\n",
        "\n",
        "X, y = load_iris(return_X_y=True)\n",
        "X_train, X_test, y_train, y_test = train_test_split(X, y, test_size=0.3, random_state=42)\n",
        "\n",
        "model = LogisticRegression(penalty='l1', solver='liblinear', max_iter=200)\n",
        "model.fit(X_train, y_train)\n",
        "y_pred = model.predict(X_test)\n",
        "\n",
        "print(\"L1 Regularization Accuracy:\", accuracy_score(y_test, y_pred))\n"
      ],
      "metadata": {
        "colab": {
          "base_uri": "https://localhost:8080/"
        },
        "id": "jzrEF4qABFNA",
        "outputId": "ab7e483b-94f8-4b9a-f444-1b30a53b8c6d"
      },
      "execution_count": 2,
      "outputs": [
        {
          "output_type": "stream",
          "name": "stdout",
          "text": [
            "L1 Regularization Accuracy: 1.0\n"
          ]
        }
      ]
    },
    {
      "cell_type": "code",
      "source": [
        "# 4. Write a Python program to train Logistic Regression with L2 regularization (Ridge) using LogisticRegression(penalty='l2'). Print model accuracy and coefficients\n",
        "model = LogisticRegression(penalty='l2', solver='lbfgs', max_iter=200)\n",
        "model.fit(X_train, y_train)\n",
        "y_pred = model.predict(X_test)\n",
        "\n",
        "print(\"L2 Regularization Accuracy:\", accuracy_score(y_test, y_pred))\n",
        "print(\"Coefficients:\", model.coef_)\n"
      ],
      "metadata": {
        "colab": {
          "base_uri": "https://localhost:8080/"
        },
        "id": "oNHSL3hFBJ8d",
        "outputId": "3013b731-03a2-4fd8-9d60-8f934932a376"
      },
      "execution_count": 3,
      "outputs": [
        {
          "output_type": "stream",
          "name": "stdout",
          "text": [
            "L2 Regularization Accuracy: 1.0\n",
            "Coefficients: [[-0.40538504  0.868924   -2.27787462 -0.95680102]\n",
            " [ 0.46642671 -0.37487836 -0.18745271 -0.72127237]\n",
            " [-0.06104166 -0.49404564  2.46532733  1.67807338]]\n"
          ]
        }
      ]
    },
    {
      "cell_type": "code",
      "source": [
        "# 5. Write a Python program to train Logistic Regression with Elastic Net Regularization (penalty='elasticnet')\n",
        "model = LogisticRegression(penalty='elasticnet', solver='saga', l1_ratio=0.5, max_iter=500)\n",
        "model.fit(X_train, y_train)\n",
        "y_pred = model.predict(X_test)\n",
        "\n",
        "print(\"Elastic Net Accuracy:\", accuracy_score(y_test, y_pred))\n",
        "\n"
      ],
      "metadata": {
        "colab": {
          "base_uri": "https://localhost:8080/"
        },
        "id": "piF1cA2cBNk-",
        "outputId": "72329c8d-30fd-4bd7-b8a0-c30d79cda711"
      },
      "execution_count": 29,
      "outputs": [
        {
          "output_type": "stream",
          "name": "stdout",
          "text": [
            "Elastic Net Accuracy: 0.035555555555555556\n"
          ]
        }
      ]
    },
    {
      "cell_type": "code",
      "source": [
        "# 6. Write a Python program to train a Logistic Regression model for multiclass classification using multi_class='ovr'\n",
        "model = LogisticRegression(multi_class='ovr', solver='lbfgs', max_iter=200)\n",
        "model.fit(X_train, y_train)\n",
        "y_pred = model.predict(X_test)\n",
        "\n",
        "print(\"Multiclass OvR Accuracy:\", accuracy_score(y_test, y_pred))\n"
      ],
      "metadata": {
        "colab": {
          "base_uri": "https://localhost:8080/"
        },
        "id": "j8couWtnBPb6",
        "outputId": "14122158-2f79-4503-cc6a-596f2ef1fb55"
      },
      "execution_count": 5,
      "outputs": [
        {
          "output_type": "stream",
          "name": "stdout",
          "text": [
            "Multiclass OvR Accuracy: 0.9555555555555556\n"
          ]
        }
      ]
    },
    {
      "cell_type": "code",
      "source": [
        "# 7. Write a Python program to apply GridSearchCV to tune the hyperparameters (C and penalty) of Logistic Regression. Print the best parameters and accuracy\n",
        "from sklearn.model_selection import GridSearchCV\n",
        "\n",
        "param_grid = {\n",
        "    'C': [0.1, 1, 10],\n",
        "    'penalty': ['l1', 'l2'],\n",
        "    'solver': ['liblinear']\n",
        "}\n",
        "grid = GridSearchCV(LogisticRegression(max_iter=200), param_grid, cv=5)\n",
        "grid.fit(X_train, y_train)\n",
        "\n",
        "print(\"Best Parameters:\", grid.best_params_)\n",
        "print(\"Best Accuracy:\", grid.best_score_)\n"
      ],
      "metadata": {
        "colab": {
          "base_uri": "https://localhost:8080/"
        },
        "id": "ylrXwUwOBQkp",
        "outputId": "dbfa6fbc-ab7a-4960-d6e7-a22df398e9a2"
      },
      "execution_count": 6,
      "outputs": [
        {
          "output_type": "stream",
          "name": "stdout",
          "text": [
            "Best Parameters: {'C': 10, 'penalty': 'l2', 'solver': 'liblinear'}\n",
            "Best Accuracy: 0.9523809523809523\n"
          ]
        }
      ]
    },
    {
      "cell_type": "code",
      "source": [
        "# 8. Write a Python program to evaluate Logistic Regression using Stratified K-Fold Cross-Validation. Print the average accuracy\n",
        "from sklearn.model_selection import StratifiedKFold, cross_val_score\n",
        "\n",
        "skf = StratifiedKFold(n_splits=5)\n",
        "model = LogisticRegression(max_iter=200)\n",
        "scores = cross_val_score(model, X, y, cv=skf)\n",
        "\n",
        "print(\"Stratified K-Fold Accuracy (Avg):\", scores.mean())\n"
      ],
      "metadata": {
        "colab": {
          "base_uri": "https://localhost:8080/"
        },
        "id": "oIVx9EsrBRY3",
        "outputId": "aa575f9d-b1e1-4e64-c2ab-db42c6f4e79c"
      },
      "execution_count": 7,
      "outputs": [
        {
          "output_type": "stream",
          "name": "stdout",
          "text": [
            "Stratified K-Fold Accuracy (Avg): 0.9733333333333334\n"
          ]
        }
      ]
    },
    {
      "cell_type": "code",
      "source": [
        "# 9. Write a Python program to load a dataset from a CSV file, apply Logistic Regression, and evaluate its accuracy\n",
        "import pandas as pd\n",
        "\n",
        "df = pd.read_csv('/content/sample_data/california test.csv')\n",
        "X = df.drop('median_house_value', axis=1)\n",
        "y = df['median_house_value']\n",
        "\n",
        "X_train, X_test, y_train, y_test = train_test_split(X, y, test_size=0.3, random_state=42)\n",
        "model = LogisticRegression(max_iter=200)\n",
        "model.fit(X_train, y_train)\n",
        "y_pred = model.predict(X_test)\n",
        "\n",
        "print(\"CSV Dataset Accuracy:\", accuracy_score(y_test, y_pred))\n"
      ],
      "metadata": {
        "colab": {
          "base_uri": "https://localhost:8080/"
        },
        "id": "IUA9_b0eBTN3",
        "outputId": "57bbd8bc-988b-48ca-e990-0d93bd06f2ba"
      },
      "execution_count": 7,
      "outputs": [
        {
          "output_type": "stream",
          "name": "stdout",
          "text": [
            "CSV Dataset Accuracy: 0.02666666666666667\n"
          ]
        }
      ]
    },
    {
      "cell_type": "code",
      "source": [
        "# 10. Write a Python program to apply RandomizedSearchCV for tuning hyperparameters (C, penalty, solver) in Logistic Regression. Print the best parameters and accuracy\n",
        "from sklearn.model_selection import RandomizedSearchCV\n",
        "\n",
        "param_dist = {\n",
        "    'C': [0.01, 0.1, 1, 10],\n",
        "    'penalty': ['l1', 'l2'],\n",
        "    'solver': ['liblinear']\n",
        "}\n",
        "rand_search = RandomizedSearchCV(LogisticRegression(max_iter=200), param_distributions=param_dist, n_iter=5, cv=5)\n",
        "rand_search.fit(X_train, y_train)\n",
        "\n",
        "print(\"Best Parameters:\", rand_search.best_params_)\n",
        "print(\"Best Accuracy:\", rand_search.best_score_)\n"
      ],
      "metadata": {
        "colab": {
          "base_uri": "https://localhost:8080/"
        },
        "id": "dVXd0w8tBURH",
        "outputId": "7246d0a3-9faa-4d83-e549-d844338241b4"
      },
      "execution_count": 9,
      "outputs": [
        {
          "output_type": "stream",
          "name": "stdout",
          "text": [
            "Best Parameters: {'solver': 'liblinear', 'penalty': 'l2', 'C': 10}\n",
            "Best Accuracy: 0.9523809523809523\n"
          ]
        }
      ]
    },
    {
      "cell_type": "code",
      "source": [
        "# 11. Write a Python program to implement One-vs-One (OvO) Multiclass Logistic Regression and print accuracy\n",
        "from sklearn.multiclass import OneVsOneClassifier\n",
        "\n",
        "ovo_model = OneVsOneClassifier(LogisticRegression(max_iter=200))\n",
        "ovo_model.fit(X_train, y_train)\n",
        "y_pred = ovo_model.predict(X_test)\n",
        "\n",
        "print(\"One-vs-One Accuracy:\", accuracy_score(y_test, y_pred))\n"
      ],
      "metadata": {
        "colab": {
          "base_uri": "https://localhost:8080/"
        },
        "id": "XRleA4NwBVX8",
        "outputId": "21364a8f-6641-48a2-8344-a325fd62defd"
      },
      "execution_count": 10,
      "outputs": [
        {
          "output_type": "stream",
          "name": "stdout",
          "text": [
            "One-vs-One Accuracy: 1.0\n"
          ]
        }
      ]
    },
    {
      "cell_type": "code",
      "source": [
        "# 12. Write a Python program to train a Logistic Regression model and visualize the confusion matrix for binary classification\n",
        "from sklearn.metrics import confusion_matrix, ConfusionMatrixDisplay\n",
        "\n",
        "# Use a binary classification dataset\n",
        "X, y = load_iris(return_X_y=True)\n",
        "X, y = X[y != 2], y[y != 2]  # Convert to binary\n",
        "\n",
        "X_train, X_test, y_train, y_test = train_test_split(X, y, test_size=0.3, random_state=42)\n",
        "model = LogisticRegression(max_iter=200)\n",
        "model.fit(X_train, y_train)\n",
        "y_pred = model.predict(X_test)\n",
        "\n",
        "cm = confusion_matrix(y_test, y_pred)\n",
        "disp = ConfusionMatrixDisplay(confusion_matrix=cm)\n",
        "disp.plot()\n"
      ],
      "metadata": {
        "colab": {
          "base_uri": "https://localhost:8080/",
          "height": 466
        },
        "id": "p6RgPwq1Ba8M",
        "outputId": "6c9bdf72-b01b-40e0-8410-1d4206b55508"
      },
      "execution_count": 11,
      "outputs": [
        {
          "output_type": "execute_result",
          "data": {
            "text/plain": [
              "<sklearn.metrics._plot.confusion_matrix.ConfusionMatrixDisplay at 0x7d408cafa950>"
            ]
          },
          "metadata": {},
          "execution_count": 11
        },
        {
          "output_type": "display_data",
          "data": {
            "text/plain": [
              "<Figure size 640x480 with 2 Axes>"
            ],
            "image/png": "[encoded data removed]"
          },
          "metadata": {}
        }
      ]
    },
    {
      "cell_type": "code",
      "source": [
        "# 13. Write a Python program to train a Logistic Regression model and evaluate its performance using Precision, Recall, and F1-Score\n",
        "from sklearn.metrics import precision_score, recall_score, f1_score\n",
        "\n",
        "model = LogisticRegression(max_iter=200)\n",
        "model.fit(X_train, y_train)\n",
        "y_pred = model.predict(X_test)\n",
        "\n",
        "print(\"Precision:\", precision_score(y_test, y_pred))\n",
        "print(\"Recall:\", recall_score(y_test, y_pred))\n",
        "print(\"F1-Score:\", f1_score(y_test, y_pred))\n"
      ],
      "metadata": {
        "colab": {
          "base_uri": "https://localhost:8080/"
        },
        "id": "CVneuWuNBcd0",
        "outputId": "366e00f1-3cc6-44ac-f4b5-c514a4a2c8d5"
      },
      "execution_count": 12,
      "outputs": [
        {
          "output_type": "stream",
          "name": "stdout",
          "text": [
            "Precision: 1.0\n",
            "Recall: 1.0\n",
            "F1-Score: 1.0\n"
          ]
        }
      ]
    },
    {
      "cell_type": "code",
      "source": [
        "# 14. Write a Python program to train Logistic Regression on the Titanic dataset, handle missing values, and evaluate performance\n",
        "import pandas as pd\n",
        "from sklearn.model_selection import train_test_split\n",
        "from sklearn.linear_model import LogisticRegression\n",
        "from sklearn.metrics import accuracy_score\n",
        "\n",
        "df = pd.read_csv('https://raw.githubusercontent.com/datasciencedojo/datasets/master/titanic.csv')\n",
        "df['Age'].fillna(df['Age'].median(), inplace=True)\n",
        "df['Embarked'].fillna(df['Embarked'].mode()[0], inplace=True)\n",
        "\n",
        "X = df[['Pclass', 'Sex', 'Age', 'SibSp', 'Parch', 'Fare', 'Embarked']]\n",
        "X = pd.get_dummies(X, drop_first=True)\n",
        "y = df['Survived']\n",
        "\n",
        "X_train, X_test, y_train, y_test = train_test_split(X, y, test_size=0.2, random_state=42)\n",
        "\n",
        "model = LogisticRegression(max_iter=1000)\n",
        "model.fit(X_train, y_train)\n",
        "y_pred = model.predict(X_test)\n",
        "print(\"Accuracy:\", accuracy_score(y_test, y_pred))\n",
        "\n"
      ],
      "metadata": {
        "colab": {
          "base_uri": "https://localhost:8080/"
        },
        "id": "abV9qj4UBdp4",
        "outputId": "12dbee1c-d737-44f3-f558-7fa67aa71420"
      },
      "execution_count": 8,
      "outputs": [
        {
          "output_type": "stream",
          "name": "stdout",
          "text": [
            "Accuracy: 0.8100558659217877\n"
          ]
        }
      ]
    },
    {
      "cell_type": "code",
      "source": [
        "# 15. Write a Python program to apply feature scaling (Standardization) before training a Logistic Regression model. Evaluate its accuracy and compare results with and without scaling\n",
        "from sklearn.preprocessing import StandardScaler\n",
        "\n",
        "model1 = LogisticRegression(max_iter=1000)\n",
        "model1.fit(X_train, y_train)\n",
        "acc1 = accuracy_score(y_test, model1.predict(X_test))\n",
        "\n",
        "scaler = StandardScaler()\n",
        "X_train_scaled = scaler.fit_transform(X_train)\n",
        "X_test_scaled = scaler.transform(X_test)\n",
        "\n",
        "model2 = LogisticRegression(max_iter=1000)\n",
        "model2.fit(X_train_scaled, y_train)\n",
        "acc2 = accuracy_score(y_test, model2.predict(X_test_scaled))\n",
        "\n",
        "print(\"Accuracy without scaling:\", acc1)\n",
        "print(\"Accuracy with scaling:\", acc2)\n"
      ],
      "metadata": {
        "colab": {
          "base_uri": "https://localhost:8080/"
        },
        "id": "w98ltA4pDIjG",
        "outputId": "34e39547-e9b5-448b-ce42-3de4800818a8"
      },
      "execution_count": 15,
      "outputs": [
        {
          "output_type": "stream",
          "name": "stdout",
          "text": [
            "Accuracy without scaling: 0.8100558659217877\n",
            "Accuracy with scaling: 0.8100558659217877\n"
          ]
        }
      ]
    },
    {
      "cell_type": "code",
      "source": [
        "# 16. Write a Python program to train Logistic Regression and evaluate its performance using ROC-AUC score\n",
        "from sklearn.metrics import roc_auc_score\n",
        "\n",
        "model.fit(X_train, y_train)\n",
        "y_probs = model.predict_proba(X_test)[:, 1]\n",
        "roc_score = roc_auc_score(y_test, y_probs)\n",
        "print(\"ROC-AUC Score:\", roc_score)\n"
      ],
      "metadata": {
        "colab": {
          "base_uri": "https://localhost:8080/"
        },
        "id": "0kwvMkcxDJEB",
        "outputId": "07a98aca-55ed-47f7-e588-fbe50e8dc1aa"
      },
      "execution_count": 16,
      "outputs": [
        {
          "output_type": "stream",
          "name": "stdout",
          "text": [
            "ROC-AUC Score: 0.8824967824967825\n"
          ]
        }
      ]
    },
    {
      "cell_type": "code",
      "source": [
        "# 17. Write a Python program to train Logistic Regression using a custom learning rate (C=0.5) and evaluate accuracy\n",
        "model_custom = LogisticRegression(C=0.5, max_iter=1000)\n",
        "model_custom.fit(X_train, y_train)\n",
        "print(\"Accuracy (C=0.5):\", accuracy_score(y_test, model_custom.predict(X_test)))\n"
      ],
      "metadata": {
        "colab": {
          "base_uri": "https://localhost:8080/"
        },
        "id": "2wWCsuhgDKjQ",
        "outputId": "4f96b3ad-0ef8-4994-a340-415f4cc9949f"
      },
      "execution_count": 17,
      "outputs": [
        {
          "output_type": "stream",
          "name": "stdout",
          "text": [
            "Accuracy (C=0.5): 0.8044692737430168\n"
          ]
        }
      ]
    },
    {
      "cell_type": "code",
      "source": [
        "# 18. Write a Python program to train Logistic Regression and identify important features based on model coefficients\n",
        "coeffs = pd.Series(model.coef_[0], index=X.columns)\n",
        "print(\"Important Features:\\n\", coeffs.sort_values(ascending=False))\n"
      ],
      "metadata": {
        "colab": {
          "base_uri": "https://localhost:8080/"
        },
        "id": "nSi63xQtDMSv",
        "outputId": "81dee0fb-1b0d-4eff-c5fa-7073954a334e"
      },
      "execution_count": 18,
      "outputs": [
        {
          "output_type": "stream",
          "name": "stdout",
          "text": [
            "Important Features:\n",
            " Fare          0.002581\n",
            "Age          -0.030570\n",
            "Parch        -0.108641\n",
            "Embarked_Q   -0.112943\n",
            "SibSp        -0.295214\n",
            "Embarked_S   -0.400127\n",
            "Pclass       -0.938004\n",
            "Sex_male     -2.592260\n",
            "dtype: float64\n"
          ]
        }
      ]
    },
    {
      "cell_type": "code",
      "source": [
        "# 19. Write a Python program to train Logistic Regression and evaluate its performance using Cohen’s Kappa Score\n",
        "from sklearn.metrics import cohen_kappa_score\n",
        "\n",
        "y_pred = model.predict(X_test)\n",
        "print(\"Cohen's Kappa Score:\", cohen_kappa_score(y_test, y_pred))\n"
      ],
      "metadata": {
        "colab": {
          "base_uri": "https://localhost:8080/"
        },
        "id": "AysdqULsDNXF",
        "outputId": "77f419f2-9f1f-4568-c14c-9d2e52f102b8"
      },
      "execution_count": 19,
      "outputs": [
        {
          "output_type": "stream",
          "name": "stdout",
          "text": [
            "Cohen's Kappa Score: 0.605215360664245\n"
          ]
        }
      ]
    },
    {
      "cell_type": "code",
      "source": [
        "# 20. Write a Python program to train Logistic Regression and visualize the Precision-Recall Curve for binary classification\n",
        "from sklearn.metrics import precision_recall_curve\n",
        "import matplotlib.pyplot as plt\n",
        "\n",
        "probs = model.predict_proba(X_test)[:, 1]\n",
        "precision, recall, _ = precision_recall_curve(y_test, probs)\n",
        "\n",
        "plt.plot(recall, precision)\n",
        "plt.xlabel('Recall')\n",
        "plt.ylabel('Precision')\n",
        "plt.title('Precision-Recall Curve')\n",
        "plt.grid()\n",
        "plt.show()\n",
        "# 21. Write a Python program to train Logistic Regression with different solvers (liblinear, saga, lbfgs) and compare their accuracy\n",
        "solvers = ['liblinear', 'saga', 'lbfgs']\n",
        "for solver in solvers:\n",
        "    clf = LogisticRegression(solver=solver, max_iter=1000)\n",
        "    clf.fit(X_train, y_train)\n",
        "    acc = accuracy_score(y_test, clf.predict(X_test))\n",
        "    print(f\"Solver: {solver}, Accuracy: {acc}\")\n"
      ],
      "metadata": {
        "colab": {
          "base_uri": "https://localhost:8080/",
          "height": 524
        },
        "id": "J86FFmgxDOME",
        "outputId": "95a9cd9c-3593-4be1-d2aa-20f03e9568c6"
      },
      "execution_count": 9,
      "outputs": [
        {
          "output_type": "display_data",
          "data": {
            "text/plain": [
              "<Figure size 640x480 with 1 Axes>"
            ],
            "image/png": "[encoded data removed]"
          },
          "metadata": {}
        },
        {
          "output_type": "stream",
          "name": "stdout",
          "text": [
            "Solver: liblinear, Accuracy: 0.7821229050279329\n",
            "Solver: saga, Accuracy: 0.7150837988826816\n",
            "Solver: lbfgs, Accuracy: 0.8100558659217877\n"
          ]
        }
      ]
    },
    {
      "cell_type": "code",
      "source": [
        "# 21. Write a Python program to train Logistic Regression with different solvers (liblinear, saga, lbfgs) and compare their accuracy\n",
        "solvers = ['liblinear', 'saga', 'lbfgs']\n",
        "for solver in solvers:\n",
        "    clf = LogisticRegression(solver=solver, max_iter=1000)\n",
        "    clf.fit(X_train, y_train)\n",
        "    acc = accuracy_score(y_test, clf.predict(X_test))\n",
        "    print(f\"Solver: {solver}, Accuracy: {acc}\")\n"
      ],
      "metadata": {
        "colab": {
          "base_uri": "https://localhost:8080/"
        },
        "id": "7vpxJbZeDQcY",
        "outputId": "f045179e-5095-43a5-a244-99911b9ca305"
      },
      "execution_count": 10,
      "outputs": [
        {
          "output_type": "stream",
          "name": "stdout",
          "text": [
            "Solver: liblinear, Accuracy: 0.7821229050279329\n",
            "Solver: saga, Accuracy: 0.7150837988826816\n",
            "Solver: lbfgs, Accuracy: 0.8100558659217877\n"
          ]
        }
      ]
    },
    {
      "cell_type": "code",
      "source": [
        "# 22. Write a Python program to train Logistic Regression and evaluate its performance using Matthews Correlation Coefficient (MCC)\n",
        "from sklearn.metrics import matthews_corrcoef\n",
        "\n",
        "mcc = matthews_corrcoef(y_test, model.predict(X_test))\n",
        "print(\"Matthews Correlation Coefficient:\", mcc)\n"
      ],
      "metadata": {
        "colab": {
          "base_uri": "https://localhost:8080/"
        },
        "id": "r9P2vL1eDTF1",
        "outputId": "2f5c1cbd-e149-432f-dc11-e895a6783562"
      },
      "execution_count": 22,
      "outputs": [
        {
          "output_type": "stream",
          "name": "stdout",
          "text": [
            "Matthews Correlation Coefficient: 0.6058691922784846\n"
          ]
        }
      ]
    },
    {
      "cell_type": "code",
      "source": [
        "# 23. Write a Python program to train Logistic Regression on both raw and standardized data. Compare their accuracy to see the impact of feature scaling\n",
        "raw_model = LogisticRegression(max_iter=1000)\n",
        "raw_model.fit(X_train, y_train)\n",
        "raw_acc = accuracy_score(y_test, raw_model.predict(X_test))\n",
        "\n",
        "scaled_model = LogisticRegression(max_iter=1000)\n",
        "scaled_model.fit(X_train_scaled, y_train)\n",
        "scaled_acc = accuracy_score(y_test, scaled_model.predict(X_test_scaled))\n",
        "\n",
        "print(\"Raw Accuracy:\", raw_acc)\n",
        "print(\"Standardized Accuracy:\", scaled_acc)\n"
      ],
      "metadata": {
        "colab": {
          "base_uri": "https://localhost:8080/"
        },
        "id": "NvGbG1WQDUHo",
        "outputId": "cdcbacf2-7615-4987-800d-09245e8f43fd"
      },
      "execution_count": 23,
      "outputs": [
        {
          "output_type": "stream",
          "name": "stdout",
          "text": [
            "Raw Accuracy: 0.8100558659217877\n",
            "Standardized Accuracy: 0.8100558659217877\n"
          ]
        }
      ]
    },
    {
      "cell_type": "code",
      "source": [
        "# 24. Write a Python program to train Logistic Regression and find the optimal C (regularization strength) using cross-validation\n",
        "from sklearn.model_selection import cross_val_score\n",
        "import numpy as np\n",
        "\n",
        "Cs = [0.01, 0.1, 0.5, 1, 5, 10]\n",
        "for c in Cs:\n",
        "    model_c = LogisticRegression(C=c, max_iter=1000)\n",
        "    scores = cross_val_score(model_c, X_train, y_train, cv=5)\n",
        "    print(f\"C: {c}, Cross-Validation Accuracy: {np.mean(scores):.4f}\")\n"
      ],
      "metadata": {
        "colab": {
          "base_uri": "https://localhost:8080/"
        },
        "id": "-l-kW6CDDVDf",
        "outputId": "033e13fb-6ecf-4031-d714-8a2639ea2175"
      },
      "execution_count": 24,
      "outputs": [
        {
          "output_type": "stream",
          "name": "stdout",
          "text": [
            "C: 0.01, Cross-Validation Accuracy: 0.7204\n",
            "C: 0.1, Cross-Validation Accuracy: 0.7935\n",
            "C: 0.5, Cross-Validation Accuracy: 0.7893\n",
            "C: 1, Cross-Validation Accuracy: 0.7907\n",
            "C: 5, Cross-Validation Accuracy: 0.7907\n",
            "C: 10, Cross-Validation Accuracy: 0.7907\n"
          ]
        }
      ]
    },
    {
      "cell_type": "code",
      "source": [
        "# 25. Write a Python program to train Logistic Regression, save the trained model using joblib, and load it again to make predictions\n",
        "import joblib\n",
        "\n",
        "final_model = LogisticRegression(max_iter=1000)\n",
        "final_model.fit(X_train, y_train)\n",
        "\n",
        "joblib.dump(final_model, 'logistic_model.pkl')\n",
        "\n",
        "loaded_model = joblib.load('logistic_model.pkl')\n",
        "print(\"Loaded model accuracy:\", accuracy_score(y_test, loaded_model.predict(X_test)))\n"
      ],
      "metadata": {
        "colab": {
          "base_uri": "https://localhost:8080/"
        },
        "id": "Vrmtj0NjDWJv",
        "outputId": "1eea8a08-90eb-4bcf-cdb2-a3a435c5674f"
      },
      "execution_count": 25,
      "outputs": [
        {
          "output_type": "stream",
          "name": "stdout",
          "text": [
            "Loaded model accuracy: 0.8100558659217877\n"
          ]
        }
      ]
    },
    {
      "cell_type": "markdown",
      "source": [
        "#THANK YOU"
      ],
      "metadata": {
        "id": "GUTf_1RbDZfZ"
      }
    },
    {
      "cell_type": "code",
      "source": [],
      "metadata": {
        "id": "nz1jbDXWDXPz"
      },
      "execution_count": null,
      "outputs": []
    }
  ]
}